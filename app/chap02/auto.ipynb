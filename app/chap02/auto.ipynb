{
 "cells": [
  {
   "cell_type": "markdown",
   "metadata": {},
   "source": [
    "# Auto"
   ]
  },
  {
   "cell_type": "markdown",
   "metadata": {},
   "source": [
    "## 载入\n",
    "\n",
    "载入数据并删除有缺失数据的行"
   ]
  },
  {
   "cell_type": "code",
   "execution_count": 29,
   "metadata": {},
   "outputs": [
    {
     "data": {
      "text/html": [
       "<table>\n",
       "<caption>A data.frame: 392 × 9</caption>\n",
       "<thead>\n",
       "\t<tr><th></th><th scope=col>mpg</th><th scope=col>cylinders</th><th scope=col>displacement</th><th scope=col>horsepower</th><th scope=col>weight</th><th scope=col>acceleration</th><th scope=col>year</th><th scope=col>origin</th><th scope=col>name</th></tr>\n",
       "\t<tr><th></th><th scope=col>&lt;dbl&gt;</th><th scope=col>&lt;int&gt;</th><th scope=col>&lt;dbl&gt;</th><th scope=col>&lt;int&gt;</th><th scope=col>&lt;int&gt;</th><th scope=col>&lt;dbl&gt;</th><th scope=col>&lt;int&gt;</th><th scope=col>&lt;int&gt;</th><th scope=col>&lt;chr&gt;</th></tr>\n",
       "</thead>\n",
       "<tbody>\n",
       "\t<tr><th scope=row>1</th><td>18</td><td>8</td><td>307</td><td>130</td><td>3504</td><td>12.0</td><td>70</td><td>1</td><td>chevrolet chevelle malibu   </td></tr>\n",
       "\t<tr><th scope=row>2</th><td>15</td><td>8</td><td>350</td><td>165</td><td>3693</td><td>11.5</td><td>70</td><td>1</td><td>buick skylark 320           </td></tr>\n",
       "\t<tr><th scope=row>3</th><td>18</td><td>8</td><td>318</td><td>150</td><td>3436</td><td>11.0</td><td>70</td><td>1</td><td>plymouth satellite          </td></tr>\n",
       "\t<tr><th scope=row>4</th><td>16</td><td>8</td><td>304</td><td>150</td><td>3433</td><td>12.0</td><td>70</td><td>1</td><td>amc rebel sst               </td></tr>\n",
       "\t<tr><th scope=row>5</th><td>17</td><td>8</td><td>302</td><td>140</td><td>3449</td><td>10.5</td><td>70</td><td>1</td><td>ford torino                 </td></tr>\n",
       "\t<tr><th scope=row>6</th><td>15</td><td>8</td><td>429</td><td>198</td><td>4341</td><td>10.0</td><td>70</td><td>1</td><td>ford galaxie 500            </td></tr>\n",
       "\t<tr><th scope=row>7</th><td>14</td><td>8</td><td>454</td><td>220</td><td>4354</td><td> 9.0</td><td>70</td><td>1</td><td>chevrolet impala            </td></tr>\n",
       "\t<tr><th scope=row>8</th><td>14</td><td>8</td><td>440</td><td>215</td><td>4312</td><td> 8.5</td><td>70</td><td>1</td><td>plymouth fury iii           </td></tr>\n",
       "\t<tr><th scope=row>9</th><td>14</td><td>8</td><td>455</td><td>225</td><td>4425</td><td>10.0</td><td>70</td><td>1</td><td>pontiac catalina            </td></tr>\n",
       "\t<tr><th scope=row>10</th><td>15</td><td>8</td><td>390</td><td>190</td><td>3850</td><td> 8.5</td><td>70</td><td>1</td><td>amc ambassador dpl          </td></tr>\n",
       "\t<tr><th scope=row>11</th><td>15</td><td>8</td><td>383</td><td>170</td><td>3563</td><td>10.0</td><td>70</td><td>1</td><td>dodge challenger se         </td></tr>\n",
       "\t<tr><th scope=row>12</th><td>14</td><td>8</td><td>340</td><td>160</td><td>3609</td><td> 8.0</td><td>70</td><td>1</td><td>plymouth 'cuda 340          </td></tr>\n",
       "\t<tr><th scope=row>13</th><td>15</td><td>8</td><td>400</td><td>150</td><td>3761</td><td> 9.5</td><td>70</td><td>1</td><td>chevrolet monte carlo       </td></tr>\n",
       "\t<tr><th scope=row>14</th><td>14</td><td>8</td><td>455</td><td>225</td><td>3086</td><td>10.0</td><td>70</td><td>1</td><td>buick estate wagon (sw)     </td></tr>\n",
       "\t<tr><th scope=row>15</th><td>24</td><td>4</td><td>113</td><td> 95</td><td>2372</td><td>15.0</td><td>70</td><td>3</td><td>toyota corona mark ii       </td></tr>\n",
       "\t<tr><th scope=row>16</th><td>22</td><td>6</td><td>198</td><td> 95</td><td>2833</td><td>15.5</td><td>70</td><td>1</td><td>plymouth duster             </td></tr>\n",
       "\t<tr><th scope=row>17</th><td>18</td><td>6</td><td>199</td><td> 97</td><td>2774</td><td>15.5</td><td>70</td><td>1</td><td>amc hornet                  </td></tr>\n",
       "\t<tr><th scope=row>18</th><td>21</td><td>6</td><td>200</td><td> 85</td><td>2587</td><td>16.0</td><td>70</td><td>1</td><td>ford maverick               </td></tr>\n",
       "\t<tr><th scope=row>19</th><td>27</td><td>4</td><td> 97</td><td> 88</td><td>2130</td><td>14.5</td><td>70</td><td>3</td><td>datsun pl510                </td></tr>\n",
       "\t<tr><th scope=row>20</th><td>26</td><td>4</td><td> 97</td><td> 46</td><td>1835</td><td>20.5</td><td>70</td><td>2</td><td>volkswagen 1131 deluxe sedan</td></tr>\n",
       "\t<tr><th scope=row>21</th><td>25</td><td>4</td><td>110</td><td> 87</td><td>2672</td><td>17.5</td><td>70</td><td>2</td><td>peugeot 504                 </td></tr>\n",
       "\t<tr><th scope=row>22</th><td>24</td><td>4</td><td>107</td><td> 90</td><td>2430</td><td>14.5</td><td>70</td><td>2</td><td>audi 100 ls                 </td></tr>\n",
       "\t<tr><th scope=row>23</th><td>25</td><td>4</td><td>104</td><td> 95</td><td>2375</td><td>17.5</td><td>70</td><td>2</td><td>saab 99e                    </td></tr>\n",
       "\t<tr><th scope=row>24</th><td>26</td><td>4</td><td>121</td><td>113</td><td>2234</td><td>12.5</td><td>70</td><td>2</td><td>bmw 2002                    </td></tr>\n",
       "\t<tr><th scope=row>25</th><td>21</td><td>6</td><td>199</td><td> 90</td><td>2648</td><td>15.0</td><td>70</td><td>1</td><td>amc gremlin                 </td></tr>\n",
       "\t<tr><th scope=row>26</th><td>10</td><td>8</td><td>360</td><td>215</td><td>4615</td><td>14.0</td><td>70</td><td>1</td><td>ford f250                   </td></tr>\n",
       "\t<tr><th scope=row>27</th><td>10</td><td>8</td><td>307</td><td>200</td><td>4376</td><td>15.0</td><td>70</td><td>1</td><td>chevy c20                   </td></tr>\n",
       "\t<tr><th scope=row>28</th><td>11</td><td>8</td><td>318</td><td>210</td><td>4382</td><td>13.5</td><td>70</td><td>1</td><td>dodge d200                  </td></tr>\n",
       "\t<tr><th scope=row>29</th><td> 9</td><td>8</td><td>304</td><td>193</td><td>4732</td><td>18.5</td><td>70</td><td>1</td><td>hi 1200d                    </td></tr>\n",
       "\t<tr><th scope=row>30</th><td>27</td><td>4</td><td> 97</td><td> 88</td><td>2130</td><td>14.5</td><td>71</td><td>3</td><td>datsun pl510                </td></tr>\n",
       "\t<tr><th scope=row>...</th><td>...</td><td>...</td><td>...</td><td>...</td><td>...</td><td>...</td><td>...</td><td>...</td><td>...</td></tr>\n",
       "\t<tr><th scope=row>368</th><td>28</td><td>4</td><td>112</td><td> 88</td><td>2605</td><td>19.6</td><td>82</td><td>1</td><td>chevrolet cavalier               </td></tr>\n",
       "\t<tr><th scope=row>369</th><td>27</td><td>4</td><td>112</td><td> 88</td><td>2640</td><td>18.6</td><td>82</td><td>1</td><td>chevrolet cavalier wagon         </td></tr>\n",
       "\t<tr><th scope=row>370</th><td>34</td><td>4</td><td>112</td><td> 88</td><td>2395</td><td>18.0</td><td>82</td><td>1</td><td>chevrolet cavalier 2-door        </td></tr>\n",
       "\t<tr><th scope=row>371</th><td>31</td><td>4</td><td>112</td><td> 85</td><td>2575</td><td>16.2</td><td>82</td><td>1</td><td>pontiac j2000 se hatchback       </td></tr>\n",
       "\t<tr><th scope=row>372</th><td>29</td><td>4</td><td>135</td><td> 84</td><td>2525</td><td>16.0</td><td>82</td><td>1</td><td>dodge aries se                   </td></tr>\n",
       "\t<tr><th scope=row>373</th><td>27</td><td>4</td><td>151</td><td> 90</td><td>2735</td><td>18.0</td><td>82</td><td>1</td><td>pontiac phoenix                  </td></tr>\n",
       "\t<tr><th scope=row>374</th><td>24</td><td>4</td><td>140</td><td> 92</td><td>2865</td><td>16.4</td><td>82</td><td>1</td><td>ford fairmont futura             </td></tr>\n",
       "\t<tr><th scope=row>375</th><td>36</td><td>4</td><td>105</td><td> 74</td><td>1980</td><td>15.3</td><td>82</td><td>2</td><td>volkswagen rabbit l              </td></tr>\n",
       "\t<tr><th scope=row>376</th><td>37</td><td>4</td><td> 91</td><td> 68</td><td>2025</td><td>18.2</td><td>82</td><td>3</td><td>mazda glc custom l               </td></tr>\n",
       "\t<tr><th scope=row>377</th><td>31</td><td>4</td><td> 91</td><td> 68</td><td>1970</td><td>17.6</td><td>82</td><td>3</td><td>mazda glc custom                 </td></tr>\n",
       "\t<tr><th scope=row>378</th><td>38</td><td>4</td><td>105</td><td> 63</td><td>2125</td><td>14.7</td><td>82</td><td>1</td><td>plymouth horizon miser           </td></tr>\n",
       "\t<tr><th scope=row>379</th><td>36</td><td>4</td><td> 98</td><td> 70</td><td>2125</td><td>17.3</td><td>82</td><td>1</td><td>mercury lynx l                   </td></tr>\n",
       "\t<tr><th scope=row>380</th><td>36</td><td>4</td><td>120</td><td> 88</td><td>2160</td><td>14.5</td><td>82</td><td>3</td><td>nissan stanza xe                 </td></tr>\n",
       "\t<tr><th scope=row>381</th><td>36</td><td>4</td><td>107</td><td> 75</td><td>2205</td><td>14.5</td><td>82</td><td>3</td><td>honda accord                     </td></tr>\n",
       "\t<tr><th scope=row>382</th><td>34</td><td>4</td><td>108</td><td> 70</td><td>2245</td><td>16.9</td><td>82</td><td>3</td><td>toyota corolla                   </td></tr>\n",
       "\t<tr><th scope=row>383</th><td>38</td><td>4</td><td> 91</td><td> 67</td><td>1965</td><td>15.0</td><td>82</td><td>3</td><td>honda civic                      </td></tr>\n",
       "\t<tr><th scope=row>384</th><td>32</td><td>4</td><td> 91</td><td> 67</td><td>1965</td><td>15.7</td><td>82</td><td>3</td><td>honda civic (auto)               </td></tr>\n",
       "\t<tr><th scope=row>385</th><td>38</td><td>4</td><td> 91</td><td> 67</td><td>1995</td><td>16.2</td><td>82</td><td>3</td><td>datsun 310 gx                    </td></tr>\n",
       "\t<tr><th scope=row>386</th><td>25</td><td>6</td><td>181</td><td>110</td><td>2945</td><td>16.4</td><td>82</td><td>1</td><td>buick century limited            </td></tr>\n",
       "\t<tr><th scope=row>387</th><td>38</td><td>6</td><td>262</td><td> 85</td><td>3015</td><td>17.0</td><td>82</td><td>1</td><td>oldsmobile cutlass ciera (diesel)</td></tr>\n",
       "\t<tr><th scope=row>388</th><td>26</td><td>4</td><td>156</td><td> 92</td><td>2585</td><td>14.5</td><td>82</td><td>1</td><td>chrysler lebaron medallion       </td></tr>\n",
       "\t<tr><th scope=row>389</th><td>22</td><td>6</td><td>232</td><td>112</td><td>2835</td><td>14.7</td><td>82</td><td>1</td><td>ford granada l                   </td></tr>\n",
       "\t<tr><th scope=row>390</th><td>32</td><td>4</td><td>144</td><td> 96</td><td>2665</td><td>13.9</td><td>82</td><td>3</td><td>toyota celica gt                 </td></tr>\n",
       "\t<tr><th scope=row>391</th><td>36</td><td>4</td><td>135</td><td> 84</td><td>2370</td><td>13.0</td><td>82</td><td>1</td><td>dodge charger 2.2                </td></tr>\n",
       "\t<tr><th scope=row>392</th><td>27</td><td>4</td><td>151</td><td> 90</td><td>2950</td><td>17.3</td><td>82</td><td>1</td><td>chevrolet camaro                 </td></tr>\n",
       "\t<tr><th scope=row>393</th><td>27</td><td>4</td><td>140</td><td> 86</td><td>2790</td><td>15.6</td><td>82</td><td>1</td><td>ford mustang gl                  </td></tr>\n",
       "\t<tr><th scope=row>394</th><td>44</td><td>4</td><td> 97</td><td> 52</td><td>2130</td><td>24.6</td><td>82</td><td>2</td><td>vw pickup                        </td></tr>\n",
       "\t<tr><th scope=row>395</th><td>32</td><td>4</td><td>135</td><td> 84</td><td>2295</td><td>11.6</td><td>82</td><td>1</td><td>dodge rampage                    </td></tr>\n",
       "\t<tr><th scope=row>396</th><td>28</td><td>4</td><td>120</td><td> 79</td><td>2625</td><td>18.6</td><td>82</td><td>1</td><td>ford ranger                      </td></tr>\n",
       "\t<tr><th scope=row>397</th><td>31</td><td>4</td><td>119</td><td> 82</td><td>2720</td><td>19.4</td><td>82</td><td>1</td><td>chevy s-10                       </td></tr>\n",
       "</tbody>\n",
       "</table>\n"
      ],
      "text/latex": [
       "A data.frame: 392 × 9\n",
       "\\begin{tabular}{r|lllllllll}\n",
       "  & mpg & cylinders & displacement & horsepower & weight & acceleration & year & origin & name\\\\\n",
       "  & <dbl> & <int> & <dbl> & <int> & <int> & <dbl> & <int> & <int> & <chr>\\\\\n",
       "\\hline\n",
       "\t1 & 18 & 8 & 307 & 130 & 3504 & 12.0 & 70 & 1 & chevrolet chevelle malibu   \\\\\n",
       "\t2 & 15 & 8 & 350 & 165 & 3693 & 11.5 & 70 & 1 & buick skylark 320           \\\\\n",
       "\t3 & 18 & 8 & 318 & 150 & 3436 & 11.0 & 70 & 1 & plymouth satellite          \\\\\n",
       "\t4 & 16 & 8 & 304 & 150 & 3433 & 12.0 & 70 & 1 & amc rebel sst               \\\\\n",
       "\t5 & 17 & 8 & 302 & 140 & 3449 & 10.5 & 70 & 1 & ford torino                 \\\\\n",
       "\t6 & 15 & 8 & 429 & 198 & 4341 & 10.0 & 70 & 1 & ford galaxie 500            \\\\\n",
       "\t7 & 14 & 8 & 454 & 220 & 4354 &  9.0 & 70 & 1 & chevrolet impala            \\\\\n",
       "\t8 & 14 & 8 & 440 & 215 & 4312 &  8.5 & 70 & 1 & plymouth fury iii           \\\\\n",
       "\t9 & 14 & 8 & 455 & 225 & 4425 & 10.0 & 70 & 1 & pontiac catalina            \\\\\n",
       "\t10 & 15 & 8 & 390 & 190 & 3850 &  8.5 & 70 & 1 & amc ambassador dpl          \\\\\n",
       "\t11 & 15 & 8 & 383 & 170 & 3563 & 10.0 & 70 & 1 & dodge challenger se         \\\\\n",
       "\t12 & 14 & 8 & 340 & 160 & 3609 &  8.0 & 70 & 1 & plymouth 'cuda 340          \\\\\n",
       "\t13 & 15 & 8 & 400 & 150 & 3761 &  9.5 & 70 & 1 & chevrolet monte carlo       \\\\\n",
       "\t14 & 14 & 8 & 455 & 225 & 3086 & 10.0 & 70 & 1 & buick estate wagon (sw)     \\\\\n",
       "\t15 & 24 & 4 & 113 &  95 & 2372 & 15.0 & 70 & 3 & toyota corona mark ii       \\\\\n",
       "\t16 & 22 & 6 & 198 &  95 & 2833 & 15.5 & 70 & 1 & plymouth duster             \\\\\n",
       "\t17 & 18 & 6 & 199 &  97 & 2774 & 15.5 & 70 & 1 & amc hornet                  \\\\\n",
       "\t18 & 21 & 6 & 200 &  85 & 2587 & 16.0 & 70 & 1 & ford maverick               \\\\\n",
       "\t19 & 27 & 4 &  97 &  88 & 2130 & 14.5 & 70 & 3 & datsun pl510                \\\\\n",
       "\t20 & 26 & 4 &  97 &  46 & 1835 & 20.5 & 70 & 2 & volkswagen 1131 deluxe sedan\\\\\n",
       "\t21 & 25 & 4 & 110 &  87 & 2672 & 17.5 & 70 & 2 & peugeot 504                 \\\\\n",
       "\t22 & 24 & 4 & 107 &  90 & 2430 & 14.5 & 70 & 2 & audi 100 ls                 \\\\\n",
       "\t23 & 25 & 4 & 104 &  95 & 2375 & 17.5 & 70 & 2 & saab 99e                    \\\\\n",
       "\t24 & 26 & 4 & 121 & 113 & 2234 & 12.5 & 70 & 2 & bmw 2002                    \\\\\n",
       "\t25 & 21 & 6 & 199 &  90 & 2648 & 15.0 & 70 & 1 & amc gremlin                 \\\\\n",
       "\t26 & 10 & 8 & 360 & 215 & 4615 & 14.0 & 70 & 1 & ford f250                   \\\\\n",
       "\t27 & 10 & 8 & 307 & 200 & 4376 & 15.0 & 70 & 1 & chevy c20                   \\\\\n",
       "\t28 & 11 & 8 & 318 & 210 & 4382 & 13.5 & 70 & 1 & dodge d200                  \\\\\n",
       "\t29 &  9 & 8 & 304 & 193 & 4732 & 18.5 & 70 & 1 & hi 1200d                    \\\\\n",
       "\t30 & 27 & 4 &  97 &  88 & 2130 & 14.5 & 71 & 3 & datsun pl510                \\\\\n",
       "\t... & ... & ... & ... & ... & ... & ... & ... & ... & ...\\\\\n",
       "\t368 & 28 & 4 & 112 &  88 & 2605 & 19.6 & 82 & 1 & chevrolet cavalier               \\\\\n",
       "\t369 & 27 & 4 & 112 &  88 & 2640 & 18.6 & 82 & 1 & chevrolet cavalier wagon         \\\\\n",
       "\t370 & 34 & 4 & 112 &  88 & 2395 & 18.0 & 82 & 1 & chevrolet cavalier 2-door        \\\\\n",
       "\t371 & 31 & 4 & 112 &  85 & 2575 & 16.2 & 82 & 1 & pontiac j2000 se hatchback       \\\\\n",
       "\t372 & 29 & 4 & 135 &  84 & 2525 & 16.0 & 82 & 1 & dodge aries se                   \\\\\n",
       "\t373 & 27 & 4 & 151 &  90 & 2735 & 18.0 & 82 & 1 & pontiac phoenix                  \\\\\n",
       "\t374 & 24 & 4 & 140 &  92 & 2865 & 16.4 & 82 & 1 & ford fairmont futura             \\\\\n",
       "\t375 & 36 & 4 & 105 &  74 & 1980 & 15.3 & 82 & 2 & volkswagen rabbit l              \\\\\n",
       "\t376 & 37 & 4 &  91 &  68 & 2025 & 18.2 & 82 & 3 & mazda glc custom l               \\\\\n",
       "\t377 & 31 & 4 &  91 &  68 & 1970 & 17.6 & 82 & 3 & mazda glc custom                 \\\\\n",
       "\t378 & 38 & 4 & 105 &  63 & 2125 & 14.7 & 82 & 1 & plymouth horizon miser           \\\\\n",
       "\t379 & 36 & 4 &  98 &  70 & 2125 & 17.3 & 82 & 1 & mercury lynx l                   \\\\\n",
       "\t380 & 36 & 4 & 120 &  88 & 2160 & 14.5 & 82 & 3 & nissan stanza xe                 \\\\\n",
       "\t381 & 36 & 4 & 107 &  75 & 2205 & 14.5 & 82 & 3 & honda accord                     \\\\\n",
       "\t382 & 34 & 4 & 108 &  70 & 2245 & 16.9 & 82 & 3 & toyota corolla                   \\\\\n",
       "\t383 & 38 & 4 &  91 &  67 & 1965 & 15.0 & 82 & 3 & honda civic                      \\\\\n",
       "\t384 & 32 & 4 &  91 &  67 & 1965 & 15.7 & 82 & 3 & honda civic (auto)               \\\\\n",
       "\t385 & 38 & 4 &  91 &  67 & 1995 & 16.2 & 82 & 3 & datsun 310 gx                    \\\\\n",
       "\t386 & 25 & 6 & 181 & 110 & 2945 & 16.4 & 82 & 1 & buick century limited            \\\\\n",
       "\t387 & 38 & 6 & 262 &  85 & 3015 & 17.0 & 82 & 1 & oldsmobile cutlass ciera (diesel)\\\\\n",
       "\t388 & 26 & 4 & 156 &  92 & 2585 & 14.5 & 82 & 1 & chrysler lebaron medallion       \\\\\n",
       "\t389 & 22 & 6 & 232 & 112 & 2835 & 14.7 & 82 & 1 & ford granada l                   \\\\\n",
       "\t390 & 32 & 4 & 144 &  96 & 2665 & 13.9 & 82 & 3 & toyota celica gt                 \\\\\n",
       "\t391 & 36 & 4 & 135 &  84 & 2370 & 13.0 & 82 & 1 & dodge charger 2.2                \\\\\n",
       "\t392 & 27 & 4 & 151 &  90 & 2950 & 17.3 & 82 & 1 & chevrolet camaro                 \\\\\n",
       "\t393 & 27 & 4 & 140 &  86 & 2790 & 15.6 & 82 & 1 & ford mustang gl                  \\\\\n",
       "\t394 & 44 & 4 &  97 &  52 & 2130 & 24.6 & 82 & 2 & vw pickup                        \\\\\n",
       "\t395 & 32 & 4 & 135 &  84 & 2295 & 11.6 & 82 & 1 & dodge rampage                    \\\\\n",
       "\t396 & 28 & 4 & 120 &  79 & 2625 & 18.6 & 82 & 1 & ford ranger                      \\\\\n",
       "\t397 & 31 & 4 & 119 &  82 & 2720 & 19.4 & 82 & 1 & chevy s-10                       \\\\\n",
       "\\end{tabular}\n"
      ],
      "text/markdown": [
       "\n",
       "A data.frame: 392 × 9\n",
       "\n",
       "| <!--/--> | mpg &lt;dbl&gt; | cylinders &lt;int&gt; | displacement &lt;dbl&gt; | horsepower &lt;int&gt; | weight &lt;int&gt; | acceleration &lt;dbl&gt; | year &lt;int&gt; | origin &lt;int&gt; | name &lt;chr&gt; |\n",
       "|---|---|---|---|---|---|---|---|---|---|\n",
       "| 1 | 18 | 8 | 307 | 130 | 3504 | 12.0 | 70 | 1 | chevrolet chevelle malibu    |\n",
       "| 2 | 15 | 8 | 350 | 165 | 3693 | 11.5 | 70 | 1 | buick skylark 320            |\n",
       "| 3 | 18 | 8 | 318 | 150 | 3436 | 11.0 | 70 | 1 | plymouth satellite           |\n",
       "| 4 | 16 | 8 | 304 | 150 | 3433 | 12.0 | 70 | 1 | amc rebel sst                |\n",
       "| 5 | 17 | 8 | 302 | 140 | 3449 | 10.5 | 70 | 1 | ford torino                  |\n",
       "| 6 | 15 | 8 | 429 | 198 | 4341 | 10.0 | 70 | 1 | ford galaxie 500             |\n",
       "| 7 | 14 | 8 | 454 | 220 | 4354 |  9.0 | 70 | 1 | chevrolet impala             |\n",
       "| 8 | 14 | 8 | 440 | 215 | 4312 |  8.5 | 70 | 1 | plymouth fury iii            |\n",
       "| 9 | 14 | 8 | 455 | 225 | 4425 | 10.0 | 70 | 1 | pontiac catalina             |\n",
       "| 10 | 15 | 8 | 390 | 190 | 3850 |  8.5 | 70 | 1 | amc ambassador dpl           |\n",
       "| 11 | 15 | 8 | 383 | 170 | 3563 | 10.0 | 70 | 1 | dodge challenger se          |\n",
       "| 12 | 14 | 8 | 340 | 160 | 3609 |  8.0 | 70 | 1 | plymouth 'cuda 340           |\n",
       "| 13 | 15 | 8 | 400 | 150 | 3761 |  9.5 | 70 | 1 | chevrolet monte carlo        |\n",
       "| 14 | 14 | 8 | 455 | 225 | 3086 | 10.0 | 70 | 1 | buick estate wagon (sw)      |\n",
       "| 15 | 24 | 4 | 113 |  95 | 2372 | 15.0 | 70 | 3 | toyota corona mark ii        |\n",
       "| 16 | 22 | 6 | 198 |  95 | 2833 | 15.5 | 70 | 1 | plymouth duster              |\n",
       "| 17 | 18 | 6 | 199 |  97 | 2774 | 15.5 | 70 | 1 | amc hornet                   |\n",
       "| 18 | 21 | 6 | 200 |  85 | 2587 | 16.0 | 70 | 1 | ford maverick                |\n",
       "| 19 | 27 | 4 |  97 |  88 | 2130 | 14.5 | 70 | 3 | datsun pl510                 |\n",
       "| 20 | 26 | 4 |  97 |  46 | 1835 | 20.5 | 70 | 2 | volkswagen 1131 deluxe sedan |\n",
       "| 21 | 25 | 4 | 110 |  87 | 2672 | 17.5 | 70 | 2 | peugeot 504                  |\n",
       "| 22 | 24 | 4 | 107 |  90 | 2430 | 14.5 | 70 | 2 | audi 100 ls                  |\n",
       "| 23 | 25 | 4 | 104 |  95 | 2375 | 17.5 | 70 | 2 | saab 99e                     |\n",
       "| 24 | 26 | 4 | 121 | 113 | 2234 | 12.5 | 70 | 2 | bmw 2002                     |\n",
       "| 25 | 21 | 6 | 199 |  90 | 2648 | 15.0 | 70 | 1 | amc gremlin                  |\n",
       "| 26 | 10 | 8 | 360 | 215 | 4615 | 14.0 | 70 | 1 | ford f250                    |\n",
       "| 27 | 10 | 8 | 307 | 200 | 4376 | 15.0 | 70 | 1 | chevy c20                    |\n",
       "| 28 | 11 | 8 | 318 | 210 | 4382 | 13.5 | 70 | 1 | dodge d200                   |\n",
       "| 29 |  9 | 8 | 304 | 193 | 4732 | 18.5 | 70 | 1 | hi 1200d                     |\n",
       "| 30 | 27 | 4 |  97 |  88 | 2130 | 14.5 | 71 | 3 | datsun pl510                 |\n",
       "| ... | ... | ... | ... | ... | ... | ... | ... | ... | ... |\n",
       "| 368 | 28 | 4 | 112 |  88 | 2605 | 19.6 | 82 | 1 | chevrolet cavalier                |\n",
       "| 369 | 27 | 4 | 112 |  88 | 2640 | 18.6 | 82 | 1 | chevrolet cavalier wagon          |\n",
       "| 370 | 34 | 4 | 112 |  88 | 2395 | 18.0 | 82 | 1 | chevrolet cavalier 2-door         |\n",
       "| 371 | 31 | 4 | 112 |  85 | 2575 | 16.2 | 82 | 1 | pontiac j2000 se hatchback        |\n",
       "| 372 | 29 | 4 | 135 |  84 | 2525 | 16.0 | 82 | 1 | dodge aries se                    |\n",
       "| 373 | 27 | 4 | 151 |  90 | 2735 | 18.0 | 82 | 1 | pontiac phoenix                   |\n",
       "| 374 | 24 | 4 | 140 |  92 | 2865 | 16.4 | 82 | 1 | ford fairmont futura              |\n",
       "| 375 | 36 | 4 | 105 |  74 | 1980 | 15.3 | 82 | 2 | volkswagen rabbit l               |\n",
       "| 376 | 37 | 4 |  91 |  68 | 2025 | 18.2 | 82 | 3 | mazda glc custom l                |\n",
       "| 377 | 31 | 4 |  91 |  68 | 1970 | 17.6 | 82 | 3 | mazda glc custom                  |\n",
       "| 378 | 38 | 4 | 105 |  63 | 2125 | 14.7 | 82 | 1 | plymouth horizon miser            |\n",
       "| 379 | 36 | 4 |  98 |  70 | 2125 | 17.3 | 82 | 1 | mercury lynx l                    |\n",
       "| 380 | 36 | 4 | 120 |  88 | 2160 | 14.5 | 82 | 3 | nissan stanza xe                  |\n",
       "| 381 | 36 | 4 | 107 |  75 | 2205 | 14.5 | 82 | 3 | honda accord                      |\n",
       "| 382 | 34 | 4 | 108 |  70 | 2245 | 16.9 | 82 | 3 | toyota corolla                    |\n",
       "| 383 | 38 | 4 |  91 |  67 | 1965 | 15.0 | 82 | 3 | honda civic                       |\n",
       "| 384 | 32 | 4 |  91 |  67 | 1965 | 15.7 | 82 | 3 | honda civic (auto)                |\n",
       "| 385 | 38 | 4 |  91 |  67 | 1995 | 16.2 | 82 | 3 | datsun 310 gx                     |\n",
       "| 386 | 25 | 6 | 181 | 110 | 2945 | 16.4 | 82 | 1 | buick century limited             |\n",
       "| 387 | 38 | 6 | 262 |  85 | 3015 | 17.0 | 82 | 1 | oldsmobile cutlass ciera (diesel) |\n",
       "| 388 | 26 | 4 | 156 |  92 | 2585 | 14.5 | 82 | 1 | chrysler lebaron medallion        |\n",
       "| 389 | 22 | 6 | 232 | 112 | 2835 | 14.7 | 82 | 1 | ford granada l                    |\n",
       "| 390 | 32 | 4 | 144 |  96 | 2665 | 13.9 | 82 | 3 | toyota celica gt                  |\n",
       "| 391 | 36 | 4 | 135 |  84 | 2370 | 13.0 | 82 | 1 | dodge charger 2.2                 |\n",
       "| 392 | 27 | 4 | 151 |  90 | 2950 | 17.3 | 82 | 1 | chevrolet camaro                  |\n",
       "| 393 | 27 | 4 | 140 |  86 | 2790 | 15.6 | 82 | 1 | ford mustang gl                   |\n",
       "| 394 | 44 | 4 |  97 |  52 | 2130 | 24.6 | 82 | 2 | vw pickup                         |\n",
       "| 395 | 32 | 4 | 135 |  84 | 2295 | 11.6 | 82 | 1 | dodge rampage                     |\n",
       "| 396 | 28 | 4 | 120 |  79 | 2625 | 18.6 | 82 | 1 | ford ranger                       |\n",
       "| 397 | 31 | 4 | 119 |  82 | 2720 | 19.4 | 82 | 1 | chevy s-10                        |\n",
       "\n"
      ],
      "text/plain": [
       "    mpg cylinders displacement horsepower weight acceleration year origin\n",
       "1   18  8         307          130        3504   12.0         70   1     \n",
       "2   15  8         350          165        3693   11.5         70   1     \n",
       "3   18  8         318          150        3436   11.0         70   1     \n",
       "4   16  8         304          150        3433   12.0         70   1     \n",
       "5   17  8         302          140        3449   10.5         70   1     \n",
       "6   15  8         429          198        4341   10.0         70   1     \n",
       "7   14  8         454          220        4354    9.0         70   1     \n",
       "8   14  8         440          215        4312    8.5         70   1     \n",
       "9   14  8         455          225        4425   10.0         70   1     \n",
       "10  15  8         390          190        3850    8.5         70   1     \n",
       "11  15  8         383          170        3563   10.0         70   1     \n",
       "12  14  8         340          160        3609    8.0         70   1     \n",
       "13  15  8         400          150        3761    9.5         70   1     \n",
       "14  14  8         455          225        3086   10.0         70   1     \n",
       "15  24  4         113           95        2372   15.0         70   3     \n",
       "16  22  6         198           95        2833   15.5         70   1     \n",
       "17  18  6         199           97        2774   15.5         70   1     \n",
       "18  21  6         200           85        2587   16.0         70   1     \n",
       "19  27  4          97           88        2130   14.5         70   3     \n",
       "20  26  4          97           46        1835   20.5         70   2     \n",
       "21  25  4         110           87        2672   17.5         70   2     \n",
       "22  24  4         107           90        2430   14.5         70   2     \n",
       "23  25  4         104           95        2375   17.5         70   2     \n",
       "24  26  4         121          113        2234   12.5         70   2     \n",
       "25  21  6         199           90        2648   15.0         70   1     \n",
       "26  10  8         360          215        4615   14.0         70   1     \n",
       "27  10  8         307          200        4376   15.0         70   1     \n",
       "28  11  8         318          210        4382   13.5         70   1     \n",
       "29   9  8         304          193        4732   18.5         70   1     \n",
       "30  27  4          97           88        2130   14.5         71   3     \n",
       "... ... ...       ...          ...        ...    ...          ...  ...   \n",
       "368 28  4         112           88        2605   19.6         82   1     \n",
       "369 27  4         112           88        2640   18.6         82   1     \n",
       "370 34  4         112           88        2395   18.0         82   1     \n",
       "371 31  4         112           85        2575   16.2         82   1     \n",
       "372 29  4         135           84        2525   16.0         82   1     \n",
       "373 27  4         151           90        2735   18.0         82   1     \n",
       "374 24  4         140           92        2865   16.4         82   1     \n",
       "375 36  4         105           74        1980   15.3         82   2     \n",
       "376 37  4          91           68        2025   18.2         82   3     \n",
       "377 31  4          91           68        1970   17.6         82   3     \n",
       "378 38  4         105           63        2125   14.7         82   1     \n",
       "379 36  4          98           70        2125   17.3         82   1     \n",
       "380 36  4         120           88        2160   14.5         82   3     \n",
       "381 36  4         107           75        2205   14.5         82   3     \n",
       "382 34  4         108           70        2245   16.9         82   3     \n",
       "383 38  4          91           67        1965   15.0         82   3     \n",
       "384 32  4          91           67        1965   15.7         82   3     \n",
       "385 38  4          91           67        1995   16.2         82   3     \n",
       "386 25  6         181          110        2945   16.4         82   1     \n",
       "387 38  6         262           85        3015   17.0         82   1     \n",
       "388 26  4         156           92        2585   14.5         82   1     \n",
       "389 22  6         232          112        2835   14.7         82   1     \n",
       "390 32  4         144           96        2665   13.9         82   3     \n",
       "391 36  4         135           84        2370   13.0         82   1     \n",
       "392 27  4         151           90        2950   17.3         82   1     \n",
       "393 27  4         140           86        2790   15.6         82   1     \n",
       "394 44  4          97           52        2130   24.6         82   2     \n",
       "395 32  4         135           84        2295   11.6         82   1     \n",
       "396 28  4         120           79        2625   18.6         82   1     \n",
       "397 31  4         119           82        2720   19.4         82   1     \n",
       "    name                             \n",
       "1   chevrolet chevelle malibu        \n",
       "2   buick skylark 320                \n",
       "3   plymouth satellite               \n",
       "4   amc rebel sst                    \n",
       "5   ford torino                      \n",
       "6   ford galaxie 500                 \n",
       "7   chevrolet impala                 \n",
       "8   plymouth fury iii                \n",
       "9   pontiac catalina                 \n",
       "10  amc ambassador dpl               \n",
       "11  dodge challenger se              \n",
       "12  plymouth 'cuda 340               \n",
       "13  chevrolet monte carlo            \n",
       "14  buick estate wagon (sw)          \n",
       "15  toyota corona mark ii            \n",
       "16  plymouth duster                  \n",
       "17  amc hornet                       \n",
       "18  ford maverick                    \n",
       "19  datsun pl510                     \n",
       "20  volkswagen 1131 deluxe sedan     \n",
       "21  peugeot 504                      \n",
       "22  audi 100 ls                      \n",
       "23  saab 99e                         \n",
       "24  bmw 2002                         \n",
       "25  amc gremlin                      \n",
       "26  ford f250                        \n",
       "27  chevy c20                        \n",
       "28  dodge d200                       \n",
       "29  hi 1200d                         \n",
       "30  datsun pl510                     \n",
       "... ...                              \n",
       "368 chevrolet cavalier               \n",
       "369 chevrolet cavalier wagon         \n",
       "370 chevrolet cavalier 2-door        \n",
       "371 pontiac j2000 se hatchback       \n",
       "372 dodge aries se                   \n",
       "373 pontiac phoenix                  \n",
       "374 ford fairmont futura             \n",
       "375 volkswagen rabbit l              \n",
       "376 mazda glc custom l               \n",
       "377 mazda glc custom                 \n",
       "378 plymouth horizon miser           \n",
       "379 mercury lynx l                   \n",
       "380 nissan stanza xe                 \n",
       "381 honda accord                     \n",
       "382 toyota corolla                   \n",
       "383 honda civic                      \n",
       "384 honda civic (auto)               \n",
       "385 datsun 310 gx                    \n",
       "386 buick century limited            \n",
       "387 oldsmobile cutlass ciera (diesel)\n",
       "388 chrysler lebaron medallion       \n",
       "389 ford granada l                   \n",
       "390 toyota celica gt                 \n",
       "391 dodge charger 2.2                \n",
       "392 chevrolet camaro                 \n",
       "393 ford mustang gl                  \n",
       "394 vw pickup                        \n",
       "395 dodge rampage                    \n",
       "396 ford ranger                      \n",
       "397 chevy s-10                       "
      ]
     },
     "metadata": {},
     "output_type": "display_data"
    }
   ],
   "source": [
    "Auto <- read.csv(\n",
    "    \"../../data/Auto.csv\",\n",
    "    header=T,\n",
    "    na.strings=\"?\"\n",
    ")\n",
    "Auto <- na.omit(Auto)\n",
    "Auto"
   ]
  },
  {
   "cell_type": "markdown",
   "metadata": {},
   "source": [
    "## 探索\n",
    "\n",
    "使用 `fix()` 查看数据"
   ]
  },
  {
   "cell_type": "code",
   "execution_count": 4,
   "metadata": {},
   "outputs": [],
   "source": [
    "fix(Auto)"
   ]
  },
  {
   "cell_type": "markdown",
   "metadata": {},
   "source": [
    "定量变量：\n",
    "\n",
    "- mpg\n",
    "- displacement\n",
    "- horsepower\n",
    "- weight\n",
    "- acceleration\n",
    "\n",
    "定性变量：\n",
    "\n",
    "- cylinders\n",
    "- origin\n",
    "- year"
   ]
  },
  {
   "cell_type": "markdown",
   "metadata": {},
   "source": [
    "### 定量预测变量的取值范围"
   ]
  },
  {
   "cell_type": "code",
   "execution_count": 6,
   "metadata": {},
   "outputs": [],
   "source": [
    "attach(Auto)"
   ]
  },
  {
   "cell_type": "code",
   "execution_count": 8,
   "metadata": {},
   "outputs": [
    {
     "name": "stdout",
     "output_type": "stream",
     "text": [
      "[1]  9.0 46.6\n"
     ]
    }
   ],
   "source": [
    "print(range(mpg))"
   ]
  },
  {
   "cell_type": "code",
   "execution_count": 9,
   "metadata": {},
   "outputs": [
    {
     "name": "stdout",
     "output_type": "stream",
     "text": [
      "[1]  68 455\n"
     ]
    }
   ],
   "source": [
    "print(range(displacement))"
   ]
  },
  {
   "cell_type": "code",
   "execution_count": 10,
   "metadata": {},
   "outputs": [
    {
     "name": "stdout",
     "output_type": "stream",
     "text": [
      "[1]  46 230\n"
     ]
    }
   ],
   "source": [
    "print(range(horsepower))"
   ]
  },
  {
   "cell_type": "code",
   "execution_count": 11,
   "metadata": {},
   "outputs": [
    {
     "name": "stdout",
     "output_type": "stream",
     "text": [
      "[1] 1613 5140\n"
     ]
    }
   ],
   "source": [
    "print(range(weight))"
   ]
  },
  {
   "cell_type": "code",
   "execution_count": 12,
   "metadata": {},
   "outputs": [
    {
     "name": "stdout",
     "output_type": "stream",
     "text": [
      "[1]  8.0 24.8\n"
     ]
    }
   ],
   "source": [
    "print(range(acceleration))"
   ]
  },
  {
   "cell_type": "markdown",
   "metadata": {},
   "source": [
    "### 定量预测变量的均值和方差"
   ]
  },
  {
   "cell_type": "code",
   "execution_count": 40,
   "metadata": {},
   "outputs": [
    {
     "name": "stdout",
     "output_type": "stream",
     "text": [
      "[1] 23.44592\n",
      "[1] 60.91814\n"
     ]
    }
   ],
   "source": [
    "print(mean(mpg))\n",
    "print(var(mpg))"
   ]
  },
  {
   "cell_type": "code",
   "execution_count": 41,
   "metadata": {},
   "outputs": [
    {
     "name": "stdout",
     "output_type": "stream",
     "text": [
      "[1] 194.412\n",
      "[1] 10950.37\n"
     ]
    }
   ],
   "source": [
    "print(mean(displacement))\n",
    "print(var(displacement))"
   ]
  },
  {
   "cell_type": "code",
   "execution_count": 42,
   "metadata": {},
   "outputs": [
    {
     "name": "stdout",
     "output_type": "stream",
     "text": [
      "[1] 104.4694\n",
      "[1] 1481.569\n"
     ]
    }
   ],
   "source": [
    "print(mean(horsepower))\n",
    "print(var(horsepower))"
   ]
  },
  {
   "cell_type": "code",
   "execution_count": 43,
   "metadata": {},
   "outputs": [
    {
     "name": "stdout",
     "output_type": "stream",
     "text": [
      "[1] 2977.584\n",
      "[1] 721484.7\n"
     ]
    }
   ],
   "source": [
    "print(mean(weight))\n",
    "print(var(weight))"
   ]
  },
  {
   "cell_type": "code",
   "execution_count": 44,
   "metadata": {},
   "outputs": [
    {
     "name": "stdout",
     "output_type": "stream",
     "text": [
      "[1] 15.54133\n",
      "[1] 7.611331\n"
     ]
    }
   ],
   "source": [
    "print(mean(acceleration))\n",
    "print(var(acceleration))"
   ]
  },
  {
   "cell_type": "markdown",
   "metadata": {},
   "source": [
    "### 删除部分数据\n",
    "\n",
    "删掉第 10 和第 85 个数据"
   ]
  },
  {
   "cell_type": "code",
   "execution_count": 31,
   "metadata": {},
   "outputs": [
    {
     "data": {
      "text/html": [
       "<table>\n",
       "<caption>A data.frame: 6 × 9</caption>\n",
       "<thead>\n",
       "\t<tr><th></th><th scope=col>mpg</th><th scope=col>cylinders</th><th scope=col>displacement</th><th scope=col>horsepower</th><th scope=col>weight</th><th scope=col>acceleration</th><th scope=col>year</th><th scope=col>origin</th><th scope=col>name</th></tr>\n",
       "\t<tr><th></th><th scope=col>&lt;dbl&gt;</th><th scope=col>&lt;int&gt;</th><th scope=col>&lt;dbl&gt;</th><th scope=col>&lt;int&gt;</th><th scope=col>&lt;int&gt;</th><th scope=col>&lt;dbl&gt;</th><th scope=col>&lt;int&gt;</th><th scope=col>&lt;int&gt;</th><th scope=col>&lt;chr&gt;</th></tr>\n",
       "</thead>\n",
       "<tbody>\n",
       "\t<tr><th scope=row>1</th><td>18</td><td>8</td><td>307</td><td>130</td><td>3504</td><td>12.0</td><td>70</td><td>1</td><td>chevrolet chevelle malibu</td></tr>\n",
       "\t<tr><th scope=row>2</th><td>15</td><td>8</td><td>350</td><td>165</td><td>3693</td><td>11.5</td><td>70</td><td>1</td><td>buick skylark 320        </td></tr>\n",
       "\t<tr><th scope=row>3</th><td>18</td><td>8</td><td>318</td><td>150</td><td>3436</td><td>11.0</td><td>70</td><td>1</td><td>plymouth satellite       </td></tr>\n",
       "\t<tr><th scope=row>4</th><td>16</td><td>8</td><td>304</td><td>150</td><td>3433</td><td>12.0</td><td>70</td><td>1</td><td>amc rebel sst            </td></tr>\n",
       "\t<tr><th scope=row>5</th><td>17</td><td>8</td><td>302</td><td>140</td><td>3449</td><td>10.5</td><td>70</td><td>1</td><td>ford torino              </td></tr>\n",
       "\t<tr><th scope=row>6</th><td>15</td><td>8</td><td>429</td><td>198</td><td>4341</td><td>10.0</td><td>70</td><td>1</td><td>ford galaxie 500         </td></tr>\n",
       "</tbody>\n",
       "</table>\n"
      ],
      "text/latex": [
       "A data.frame: 6 × 9\n",
       "\\begin{tabular}{r|lllllllll}\n",
       "  & mpg & cylinders & displacement & horsepower & weight & acceleration & year & origin & name\\\\\n",
       "  & <dbl> & <int> & <dbl> & <int> & <int> & <dbl> & <int> & <int> & <chr>\\\\\n",
       "\\hline\n",
       "\t1 & 18 & 8 & 307 & 130 & 3504 & 12.0 & 70 & 1 & chevrolet chevelle malibu\\\\\n",
       "\t2 & 15 & 8 & 350 & 165 & 3693 & 11.5 & 70 & 1 & buick skylark 320        \\\\\n",
       "\t3 & 18 & 8 & 318 & 150 & 3436 & 11.0 & 70 & 1 & plymouth satellite       \\\\\n",
       "\t4 & 16 & 8 & 304 & 150 & 3433 & 12.0 & 70 & 1 & amc rebel sst            \\\\\n",
       "\t5 & 17 & 8 & 302 & 140 & 3449 & 10.5 & 70 & 1 & ford torino              \\\\\n",
       "\t6 & 15 & 8 & 429 & 198 & 4341 & 10.0 & 70 & 1 & ford galaxie 500         \\\\\n",
       "\\end{tabular}\n"
      ],
      "text/markdown": [
       "\n",
       "A data.frame: 6 × 9\n",
       "\n",
       "| <!--/--> | mpg &lt;dbl&gt; | cylinders &lt;int&gt; | displacement &lt;dbl&gt; | horsepower &lt;int&gt; | weight &lt;int&gt; | acceleration &lt;dbl&gt; | year &lt;int&gt; | origin &lt;int&gt; | name &lt;chr&gt; |\n",
       "|---|---|---|---|---|---|---|---|---|---|\n",
       "| 1 | 18 | 8 | 307 | 130 | 3504 | 12.0 | 70 | 1 | chevrolet chevelle malibu |\n",
       "| 2 | 15 | 8 | 350 | 165 | 3693 | 11.5 | 70 | 1 | buick skylark 320         |\n",
       "| 3 | 18 | 8 | 318 | 150 | 3436 | 11.0 | 70 | 1 | plymouth satellite        |\n",
       "| 4 | 16 | 8 | 304 | 150 | 3433 | 12.0 | 70 | 1 | amc rebel sst             |\n",
       "| 5 | 17 | 8 | 302 | 140 | 3449 | 10.5 | 70 | 1 | ford torino               |\n",
       "| 6 | 15 | 8 | 429 | 198 | 4341 | 10.0 | 70 | 1 | ford galaxie 500          |\n",
       "\n"
      ],
      "text/plain": [
       "  mpg cylinders displacement horsepower weight acceleration year origin\n",
       "1 18  8         307          130        3504   12.0         70   1     \n",
       "2 15  8         350          165        3693   11.5         70   1     \n",
       "3 18  8         318          150        3436   11.0         70   1     \n",
       "4 16  8         304          150        3433   12.0         70   1     \n",
       "5 17  8         302          140        3449   10.5         70   1     \n",
       "6 15  8         429          198        4341   10.0         70   1     \n",
       "  name                     \n",
       "1 chevrolet chevelle malibu\n",
       "2 buick skylark 320        \n",
       "3 plymouth satellite       \n",
       "4 amc rebel sst            \n",
       "5 ford torino              \n",
       "6 ford galaxie 500         "
      ]
     },
     "metadata": {},
     "output_type": "display_data"
    }
   ],
   "source": [
    "Auto2 <- Auto[c(-10,-85),]\n",
    "head(Auto2)"
   ]
  },
  {
   "cell_type": "markdown",
   "metadata": {},
   "source": [
    "每个预测变量的取值范围，均值和标准差"
   ]
  },
  {
   "cell_type": "code",
   "execution_count": 37,
   "metadata": {},
   "outputs": [
    {
     "name": "stdout",
     "output_type": "stream",
     "text": [
      "[1]  9.0 46.6\n",
      "[1] 23.49436\n",
      "[1] 7.795198\n"
     ]
    }
   ],
   "source": [
    "print(range(Auto2$mpg))\n",
    "print(mean(Auto2$mpg))\n",
    "print(sd(Auto2$mpg))"
   ]
  },
  {
   "cell_type": "code",
   "execution_count": 38,
   "metadata": {},
   "outputs": [
    {
     "name": "stdout",
     "output_type": "stream",
     "text": [
      "[1] 3 8\n",
      "[1] 5.458974\n",
      "[1] 1.700479\n"
     ]
    }
   ],
   "source": [
    "print(range(Auto2$cylinders))\n",
    "print(mean(Auto2$cylinders))\n",
    "print(sd(Auto2$cylinders))"
   ]
  },
  {
   "cell_type": "code",
   "execution_count": 39,
   "metadata": {},
   "outputs": [
    {
     "name": "stdout",
     "output_type": "stream",
     "text": [
      "[1]  68 455\n",
      "[1] 193.5115\n",
      "[1] 104.1407\n"
     ]
    }
   ],
   "source": [
    "print(range(Auto2$displacement))\n",
    "print(mean(Auto2$displacement))\n",
    "print(sd(Auto2$displacement))"
   ]
  },
  {
   "cell_type": "code",
   "execution_count": 46,
   "metadata": {},
   "outputs": [
    {
     "name": "stdout",
     "output_type": "stream",
     "text": [
      "[1]  46 230\n",
      "[1] 104.0692\n",
      "[1] 38.17633\n"
     ]
    }
   ],
   "source": [
    "print(range(Auto2$horsepower))\n",
    "print(mean(Auto2$horsepower))\n",
    "print(sd(Auto2$horsepower))"
   ]
  },
  {
   "cell_type": "code",
   "execution_count": 47,
   "metadata": {},
   "outputs": [
    {
     "name": "stdout",
     "output_type": "stream",
     "text": [
      "[1] 1613 5140\n",
      "[1] 2972.469\n",
      "[1] 848.5121\n"
     ]
    }
   ],
   "source": [
    "print(range(Auto2$weight))\n",
    "print(mean(Auto2$weight))\n",
    "print(sd(Auto2$weight))"
   ]
  },
  {
   "cell_type": "code",
   "execution_count": 48,
   "metadata": {},
   "outputs": [
    {
     "name": "stdout",
     "output_type": "stream",
     "text": [
      "[1]  8.0 24.8\n",
      "[1] 15.5659\n",
      "[1] 2.739672\n"
     ]
    }
   ],
   "source": [
    "print(range(Auto2$acceleration))\n",
    "print(mean(Auto2$acceleration))\n",
    "print(sd(Auto2$acceleration))"
   ]
  },
  {
   "cell_type": "code",
   "execution_count": 49,
   "metadata": {},
   "outputs": [
    {
     "name": "stdout",
     "output_type": "stream",
     "text": [
      "[1] 70 82\n",
      "[1] 76.00256\n",
      "[1] 3.677556\n"
     ]
    }
   ],
   "source": [
    "print(range(Auto2$year))\n",
    "print(mean(Auto2$year))\n",
    "print(sd(Auto2$year))"
   ]
  },
  {
   "cell_type": "code",
   "execution_count": 50,
   "metadata": {},
   "outputs": [
    {
     "name": "stdout",
     "output_type": "stream",
     "text": [
      "[1] 1 3\n",
      "[1] 1.579487\n",
      "[1] 0.8065221\n"
     ]
    }
   ],
   "source": [
    "print(range(Auto2$origin))\n",
    "print(mean(Auto2$origin))\n",
    "print(sd(Auto2$origin))"
   ]
  },
  {
   "cell_type": "markdown",
   "metadata": {},
   "source": [
    "### 研究预测变量的性质"
   ]
  },
  {
   "cell_type": "code",
   "execution_count": 52,
   "metadata": {},
   "outputs": [
    {
     "data": {
      "image/png": "[encoded data removed]",
      "text/plain": [
       "plot without title"
      ]
     },
     "metadata": {
      "image/png": {
       "height": 420,
       "width": 420
      }
     },
     "output_type": "display_data"
    }
   ],
   "source": [
    "pairs(~ mpg + displacement + horsepower + weight + acceleration)"
   ]
  },
  {
   "cell_type": "markdown",
   "metadata": {},
   "source": [
    "### 预测\n",
    "\n",
    "使用一些变量预测 mpg"
   ]
  },
  {
   "cell_type": "code",
   "execution_count": 57,
   "metadata": {},
   "outputs": [
    {
     "data": {
      "image/png": "[encoded data removed]",
      "text/plain": [
       "plot without title"
      ]
     },
     "metadata": {
      "image/png": {
       "height": 420,
       "width": 420
      }
     },
     "output_type": "display_data"
    }
   ],
   "source": [
    "plot(displacement, mpg)"
   ]
  },
  {
   "cell_type": "code",
   "execution_count": 56,
   "metadata": {},
   "outputs": [
    {
     "data": {
      "image/png": "[encoded data removed]",
      "text/plain": [
       "plot without title"
      ]
     },
     "metadata": {
      "image/png": {
       "height": 420,
       "width": 420
      }
     },
     "output_type": "display_data"
    }
   ],
   "source": [
    "plot(horsepower, mpg)"
   ]
  },
  {
   "cell_type": "code",
   "execution_count": 55,
   "metadata": {},
   "outputs": [
    {
     "data": {
      "image/png": "[encoded data removed]",
      "text/plain": [
       "plot without title"
      ]
     },
     "metadata": {
      "image/png": {
       "height": 420,
       "width": 420
      }
     },
     "output_type": "display_data"
    }
   ],
   "source": [
    "plot(weight, mpg)"
   ]
  },
  {
   "cell_type": "code",
   "execution_count": 58,
   "metadata": {},
   "outputs": [],
   "source": [
    "lm.fit <- lm(mpg ~ displacement + horsepower + weight)"
   ]
  },
  {
   "cell_type": "code",
   "execution_count": 59,
   "metadata": {},
   "outputs": [
    {
     "data": {
      "text/plain": [
       "\n",
       "Call:\n",
       "lm(formula = mpg ~ displacement + horsepower + weight)\n",
       "\n",
       "Residuals:\n",
       "     Min       1Q   Median       3Q      Max \n",
       "-11.3347  -2.8028  -0.3402   2.2037  16.2409 \n",
       "\n",
       "Coefficients:\n",
       "               Estimate Std. Error t value Pr(>|t|)    \n",
       "(Intercept)  44.8559357  1.1959200  37.507  < 2e-16 ***\n",
       "displacement -0.0057688  0.0065819  -0.876  0.38132    \n",
       "horsepower   -0.0416741  0.0128139  -3.252  0.00125 ** \n",
       "weight       -0.0053516  0.0007124  -7.513 4.04e-13 ***\n",
       "---\n",
       "Signif. codes:  0 '***' 0.001 '**' 0.01 '*' 0.05 '.' 0.1 ' ' 1\n",
       "\n",
       "Residual standard error: 4.241 on 388 degrees of freedom\n",
       "Multiple R-squared:  0.707,\tAdjusted R-squared:  0.7047 \n",
       "F-statistic:   312 on 3 and 388 DF,  p-value: < 2.2e-16\n"
      ]
     },
     "metadata": {},
     "output_type": "display_data"
    }
   ],
   "source": [
    "summary(lm.fit)"
   ]
  },
  {
   "cell_type": "code",
   "execution_count": 69,
   "metadata": {},
   "outputs": [
    {
     "name": "stdout",
     "output_type": "stream",
     "text": [
      " [1] 18 16 18 18 18 10  9 10  9 14 16 16 16 16 27 24 24 26 29 32\n"
     ]
    }
   ],
   "source": [
    "print(as.integer(predict(lm.fit)[1:20]))"
   ]
  },
  {
   "cell_type": "code",
   "execution_count": 70,
   "metadata": {},
   "outputs": [
    {
     "name": "stdout",
     "output_type": "stream",
     "text": [
      " [1] 18 15 18 16 17 15 14 14 14 15 15 14 15 14 24 22 18 21 27 26\n"
     ]
    }
   ],
   "source": [
    "print(mpg[1:20])"
   ]
  },
  {
   "cell_type": "code",
   "execution_count": null,
   "metadata": {},
   "outputs": [],
   "source": []
  }
 ],
 "metadata": {
  "kernelspec": {
   "display_name": "R",
   "language": "R",
   "name": "ir"
  },
  "language_info": {
   "codemirror_mode": "r",
   "file_extension": ".r",
   "mimetype": "text/x-r-source",
   "name": "R",
   "pygments_lexer": "r",
   "version": "4.0.2"
  },
  "toc-autonumbering": false,
  "toc-showcode": false,
  "toc-showtags": false
 },
 "nbformat": 4,
 "nbformat_minor": 4
}
